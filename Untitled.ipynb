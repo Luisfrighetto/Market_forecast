{
 "cells": [
  {
   "cell_type": "markdown",
   "id": "a6e1e10b",
   "metadata": {},
   "source": [
    "Modelo de Machine Learning para predição de preço futuro usando historicos de dados do S&P500 (Principal Indicador de ações de empresa de grande porte dos EUA) \n",
    "random forest model usando backtesting para predição\n",
    "Uma tecnica de contorno de overfit do modelo\n",
    "criação de preditores tambem sera usada. "
   ]
  },
  {
   "cell_type": "markdown",
   "id": "0ce6d777",
   "metadata": {},
   "source": [
    "### Importação dados e limpeza dos dados"
   ]
  },
  {
   "cell_type": "code",
   "execution_count": 2,
   "id": "6a5ba226",
   "metadata": {},
   "outputs": [],
   "source": [
    "import yfinance as yf"
   ]
  },
  {
   "cell_type": "code",
   "execution_count": 7,
   "id": "7dabbe5c",
   "metadata": {},
   "outputs": [],
   "source": [
    "sp500 = yf.Ticker(\"^GSPC\")"
   ]
  },
  {
   "cell_type": "code",
   "execution_count": 8,
   "id": "48e600ea",
   "metadata": {},
   "outputs": [],
   "source": [
    "sp500 = sp500.history(period=\"max\")"
   ]
  },
  {
   "cell_type": "code",
   "execution_count": 5,
   "id": "4c46348a",
   "metadata": {},
   "outputs": [
    {
     "data": {
      "text/html": [
       "<div>\n",
       "<style scoped>\n",
       "    .dataframe tbody tr th:only-of-type {\n",
       "        vertical-align: middle;\n",
       "    }\n",
       "\n",
       "    .dataframe tbody tr th {\n",
       "        vertical-align: top;\n",
       "    }\n",
       "\n",
       "    .dataframe thead th {\n",
       "        text-align: right;\n",
       "    }\n",
       "</style>\n",
       "<table border=\"1\" class=\"dataframe\">\n",
       "  <thead>\n",
       "    <tr style=\"text-align: right;\">\n",
       "      <th></th>\n",
       "      <th>Open</th>\n",
       "      <th>High</th>\n",
       "      <th>Low</th>\n",
       "      <th>Close</th>\n",
       "      <th>Volume</th>\n",
       "      <th>Dividends</th>\n",
       "      <th>Stock Splits</th>\n",
       "    </tr>\n",
       "    <tr>\n",
       "      <th>Date</th>\n",
       "      <th></th>\n",
       "      <th></th>\n",
       "      <th></th>\n",
       "      <th></th>\n",
       "      <th></th>\n",
       "      <th></th>\n",
       "      <th></th>\n",
       "    </tr>\n",
       "  </thead>\n",
       "  <tbody>\n",
       "    <tr>\n",
       "      <th>1927-12-30 00:00:00-05:00</th>\n",
       "      <td>17.660000</td>\n",
       "      <td>17.660000</td>\n",
       "      <td>17.660000</td>\n",
       "      <td>17.660000</td>\n",
       "      <td>0</td>\n",
       "      <td>0.0</td>\n",
       "      <td>0.0</td>\n",
       "    </tr>\n",
       "    <tr>\n",
       "      <th>1928-01-03 00:00:00-05:00</th>\n",
       "      <td>17.760000</td>\n",
       "      <td>17.760000</td>\n",
       "      <td>17.760000</td>\n",
       "      <td>17.760000</td>\n",
       "      <td>0</td>\n",
       "      <td>0.0</td>\n",
       "      <td>0.0</td>\n",
       "    </tr>\n",
       "    <tr>\n",
       "      <th>1928-01-04 00:00:00-05:00</th>\n",
       "      <td>17.719999</td>\n",
       "      <td>17.719999</td>\n",
       "      <td>17.719999</td>\n",
       "      <td>17.719999</td>\n",
       "      <td>0</td>\n",
       "      <td>0.0</td>\n",
       "      <td>0.0</td>\n",
       "    </tr>\n",
       "    <tr>\n",
       "      <th>1928-01-05 00:00:00-05:00</th>\n",
       "      <td>17.549999</td>\n",
       "      <td>17.549999</td>\n",
       "      <td>17.549999</td>\n",
       "      <td>17.549999</td>\n",
       "      <td>0</td>\n",
       "      <td>0.0</td>\n",
       "      <td>0.0</td>\n",
       "    </tr>\n",
       "    <tr>\n",
       "      <th>1928-01-06 00:00:00-05:00</th>\n",
       "      <td>17.660000</td>\n",
       "      <td>17.660000</td>\n",
       "      <td>17.660000</td>\n",
       "      <td>17.660000</td>\n",
       "      <td>0</td>\n",
       "      <td>0.0</td>\n",
       "      <td>0.0</td>\n",
       "    </tr>\n",
       "    <tr>\n",
       "      <th>...</th>\n",
       "      <td>...</td>\n",
       "      <td>...</td>\n",
       "      <td>...</td>\n",
       "      <td>...</td>\n",
       "      <td>...</td>\n",
       "      <td>...</td>\n",
       "      <td>...</td>\n",
       "    </tr>\n",
       "    <tr>\n",
       "      <th>2023-09-13 00:00:00-04:00</th>\n",
       "      <td>4462.649902</td>\n",
       "      <td>4479.390137</td>\n",
       "      <td>4453.520020</td>\n",
       "      <td>4467.439941</td>\n",
       "      <td>3529430000</td>\n",
       "      <td>0.0</td>\n",
       "      <td>0.0</td>\n",
       "    </tr>\n",
       "    <tr>\n",
       "      <th>2023-09-14 00:00:00-04:00</th>\n",
       "      <td>4487.779785</td>\n",
       "      <td>4511.990234</td>\n",
       "      <td>4478.689941</td>\n",
       "      <td>4505.100098</td>\n",
       "      <td>3648720000</td>\n",
       "      <td>0.0</td>\n",
       "      <td>0.0</td>\n",
       "    </tr>\n",
       "    <tr>\n",
       "      <th>2023-09-15 00:00:00-04:00</th>\n",
       "      <td>4497.979980</td>\n",
       "      <td>4497.979980</td>\n",
       "      <td>4447.209961</td>\n",
       "      <td>4450.319824</td>\n",
       "      <td>6932230000</td>\n",
       "      <td>0.0</td>\n",
       "      <td>0.0</td>\n",
       "    </tr>\n",
       "    <tr>\n",
       "      <th>2023-09-18 00:00:00-04:00</th>\n",
       "      <td>4445.129883</td>\n",
       "      <td>4466.359863</td>\n",
       "      <td>4442.109863</td>\n",
       "      <td>4453.529785</td>\n",
       "      <td>3161230000</td>\n",
       "      <td>0.0</td>\n",
       "      <td>0.0</td>\n",
       "    </tr>\n",
       "    <tr>\n",
       "      <th>2023-09-19 00:00:00-04:00</th>\n",
       "      <td>4445.410156</td>\n",
       "      <td>4449.850098</td>\n",
       "      <td>4416.609863</td>\n",
       "      <td>4432.319824</td>\n",
       "      <td>982228731</td>\n",
       "      <td>0.0</td>\n",
       "      <td>0.0</td>\n",
       "    </tr>\n",
       "  </tbody>\n",
       "</table>\n",
       "<p>24044 rows × 7 columns</p>\n",
       "</div>"
      ],
      "text/plain": [
       "                                  Open         High          Low        Close  \\\n",
       "Date                                                                            \n",
       "1927-12-30 00:00:00-05:00    17.660000    17.660000    17.660000    17.660000   \n",
       "1928-01-03 00:00:00-05:00    17.760000    17.760000    17.760000    17.760000   \n",
       "1928-01-04 00:00:00-05:00    17.719999    17.719999    17.719999    17.719999   \n",
       "1928-01-05 00:00:00-05:00    17.549999    17.549999    17.549999    17.549999   \n",
       "1928-01-06 00:00:00-05:00    17.660000    17.660000    17.660000    17.660000   \n",
       "...                                ...          ...          ...          ...   \n",
       "2023-09-13 00:00:00-04:00  4462.649902  4479.390137  4453.520020  4467.439941   \n",
       "2023-09-14 00:00:00-04:00  4487.779785  4511.990234  4478.689941  4505.100098   \n",
       "2023-09-15 00:00:00-04:00  4497.979980  4497.979980  4447.209961  4450.319824   \n",
       "2023-09-18 00:00:00-04:00  4445.129883  4466.359863  4442.109863  4453.529785   \n",
       "2023-09-19 00:00:00-04:00  4445.410156  4449.850098  4416.609863  4432.319824   \n",
       "\n",
       "                               Volume  Dividends  Stock Splits  \n",
       "Date                                                            \n",
       "1927-12-30 00:00:00-05:00           0        0.0           0.0  \n",
       "1928-01-03 00:00:00-05:00           0        0.0           0.0  \n",
       "1928-01-04 00:00:00-05:00           0        0.0           0.0  \n",
       "1928-01-05 00:00:00-05:00           0        0.0           0.0  \n",
       "1928-01-06 00:00:00-05:00           0        0.0           0.0  \n",
       "...                               ...        ...           ...  \n",
       "2023-09-13 00:00:00-04:00  3529430000        0.0           0.0  \n",
       "2023-09-14 00:00:00-04:00  3648720000        0.0           0.0  \n",
       "2023-09-15 00:00:00-04:00  6932230000        0.0           0.0  \n",
       "2023-09-18 00:00:00-04:00  3161230000        0.0           0.0  \n",
       "2023-09-19 00:00:00-04:00   982228731        0.0           0.0  \n",
       "\n",
       "[24044 rows x 7 columns]"
      ]
     },
     "execution_count": 5,
     "metadata": {},
     "output_type": "execute_result"
    }
   ],
   "source": [
    "sp500"
   ]
  },
  {
   "cell_type": "code",
   "execution_count": 6,
   "id": "6e8f0cc6",
   "metadata": {},
   "outputs": [
    {
     "data": {
      "text/plain": [
       "DatetimeIndex(['1927-12-30 00:00:00-05:00', '1928-01-03 00:00:00-05:00',\n",
       "               '1928-01-04 00:00:00-05:00', '1928-01-05 00:00:00-05:00',\n",
       "               '1928-01-06 00:00:00-05:00', '1928-01-09 00:00:00-05:00',\n",
       "               '1928-01-10 00:00:00-05:00', '1928-01-11 00:00:00-05:00',\n",
       "               '1928-01-12 00:00:00-05:00', '1928-01-13 00:00:00-05:00',\n",
       "               ...\n",
       "               '2023-09-06 00:00:00-04:00', '2023-09-07 00:00:00-04:00',\n",
       "               '2023-09-08 00:00:00-04:00', '2023-09-11 00:00:00-04:00',\n",
       "               '2023-09-12 00:00:00-04:00', '2023-09-13 00:00:00-04:00',\n",
       "               '2023-09-14 00:00:00-04:00', '2023-09-15 00:00:00-04:00',\n",
       "               '2023-09-18 00:00:00-04:00', '2023-09-19 00:00:00-04:00'],\n",
       "              dtype='datetime64[ns, America/New_York]', name='Date', length=24044, freq=None)"
      ]
     },
     "execution_count": 6,
     "metadata": {},
     "output_type": "execute_result"
    }
   ],
   "source": [
    "sp500.index"
   ]
  },
  {
   "cell_type": "code",
   "execution_count": 9,
   "id": "2fe73ed1",
   "metadata": {
    "scrolled": true
   },
   "outputs": [
    {
     "data": {
      "text/plain": [
       "<Axes: xlabel='Date'>"
      ]
     },
     "execution_count": 9,
     "metadata": {},
     "output_type": "execute_result"
    },
    {
     "data": {
      "image/png": "[encoded data removed]",
      "text/plain": [
       "<Figure size 640x480 with 1 Axes>"
      ]
     },
     "metadata": {},
     "output_type": "display_data"
    }
   ],
   "source": [
    "sp500.plot.line(y=\"Close\", use_index=True)"
   ]
  },
  {
   "cell_type": "code",
   "execution_count": 9,
   "id": "96c154a4",
   "metadata": {},
   "outputs": [],
   "source": [
    "del sp500[\"Dividends\"]\n",
    "del sp500[\"Stock Splits\"]"
   ]
  },
  {
   "cell_type": "code",
   "execution_count": 12,
   "id": "e9f78cb3",
   "metadata": {},
   "outputs": [
    {
     "data": {
      "text/html": [
       "<div>\n",
       "<style scoped>\n",
       "    .dataframe tbody tr th:only-of-type {\n",
       "        vertical-align: middle;\n",
       "    }\n",
       "\n",
       "    .dataframe tbody tr th {\n",
       "        vertical-align: top;\n",
       "    }\n",
       "\n",
       "    .dataframe thead th {\n",
       "        text-align: right;\n",
       "    }\n",
       "</style>\n",
       "<table border=\"1\" class=\"dataframe\">\n",
       "  <thead>\n",
       "    <tr style=\"text-align: right;\">\n",
       "      <th></th>\n",
       "      <th>Open</th>\n",
       "      <th>High</th>\n",
       "      <th>Low</th>\n",
       "      <th>Close</th>\n",
       "      <th>Volume</th>\n",
       "    </tr>\n",
       "    <tr>\n",
       "      <th>Date</th>\n",
       "      <th></th>\n",
       "      <th></th>\n",
       "      <th></th>\n",
       "      <th></th>\n",
       "      <th></th>\n",
       "    </tr>\n",
       "  </thead>\n",
       "  <tbody>\n",
       "    <tr>\n",
       "      <th>1927-12-30 00:00:00-05:00</th>\n",
       "      <td>17.660000</td>\n",
       "      <td>17.660000</td>\n",
       "      <td>17.660000</td>\n",
       "      <td>17.660000</td>\n",
       "      <td>0</td>\n",
       "    </tr>\n",
       "    <tr>\n",
       "      <th>1928-01-03 00:00:00-05:00</th>\n",
       "      <td>17.760000</td>\n",
       "      <td>17.760000</td>\n",
       "      <td>17.760000</td>\n",
       "      <td>17.760000</td>\n",
       "      <td>0</td>\n",
       "    </tr>\n",
       "    <tr>\n",
       "      <th>1928-01-04 00:00:00-05:00</th>\n",
       "      <td>17.719999</td>\n",
       "      <td>17.719999</td>\n",
       "      <td>17.719999</td>\n",
       "      <td>17.719999</td>\n",
       "      <td>0</td>\n",
       "    </tr>\n",
       "    <tr>\n",
       "      <th>1928-01-05 00:00:00-05:00</th>\n",
       "      <td>17.549999</td>\n",
       "      <td>17.549999</td>\n",
       "      <td>17.549999</td>\n",
       "      <td>17.549999</td>\n",
       "      <td>0</td>\n",
       "    </tr>\n",
       "    <tr>\n",
       "      <th>1928-01-06 00:00:00-05:00</th>\n",
       "      <td>17.660000</td>\n",
       "      <td>17.660000</td>\n",
       "      <td>17.660000</td>\n",
       "      <td>17.660000</td>\n",
       "      <td>0</td>\n",
       "    </tr>\n",
       "    <tr>\n",
       "      <th>...</th>\n",
       "      <td>...</td>\n",
       "      <td>...</td>\n",
       "      <td>...</td>\n",
       "      <td>...</td>\n",
       "      <td>...</td>\n",
       "    </tr>\n",
       "    <tr>\n",
       "      <th>2023-09-12 00:00:00-04:00</th>\n",
       "      <td>4473.270020</td>\n",
       "      <td>4487.109863</td>\n",
       "      <td>4456.830078</td>\n",
       "      <td>4461.899902</td>\n",
       "      <td>3435740000</td>\n",
       "    </tr>\n",
       "    <tr>\n",
       "      <th>2023-09-13 00:00:00-04:00</th>\n",
       "      <td>4462.649902</td>\n",
       "      <td>4479.390137</td>\n",
       "      <td>4453.520020</td>\n",
       "      <td>4467.439941</td>\n",
       "      <td>3529430000</td>\n",
       "    </tr>\n",
       "    <tr>\n",
       "      <th>2023-09-14 00:00:00-04:00</th>\n",
       "      <td>4487.779785</td>\n",
       "      <td>4511.990234</td>\n",
       "      <td>4478.689941</td>\n",
       "      <td>4505.100098</td>\n",
       "      <td>3648720000</td>\n",
       "    </tr>\n",
       "    <tr>\n",
       "      <th>2023-09-15 00:00:00-04:00</th>\n",
       "      <td>4497.979980</td>\n",
       "      <td>4497.979980</td>\n",
       "      <td>4447.209961</td>\n",
       "      <td>4450.319824</td>\n",
       "      <td>6932230000</td>\n",
       "    </tr>\n",
       "    <tr>\n",
       "      <th>2023-09-18 00:00:00-04:00</th>\n",
       "      <td>4445.129883</td>\n",
       "      <td>4466.359863</td>\n",
       "      <td>4442.109863</td>\n",
       "      <td>4453.529785</td>\n",
       "      <td>1932361000</td>\n",
       "    </tr>\n",
       "  </tbody>\n",
       "</table>\n",
       "<p>24043 rows × 5 columns</p>\n",
       "</div>"
      ],
      "text/plain": [
       "                                  Open         High          Low        Close  \\\n",
       "Date                                                                            \n",
       "1927-12-30 00:00:00-05:00    17.660000    17.660000    17.660000    17.660000   \n",
       "1928-01-03 00:00:00-05:00    17.760000    17.760000    17.760000    17.760000   \n",
       "1928-01-04 00:00:00-05:00    17.719999    17.719999    17.719999    17.719999   \n",
       "1928-01-05 00:00:00-05:00    17.549999    17.549999    17.549999    17.549999   \n",
       "1928-01-06 00:00:00-05:00    17.660000    17.660000    17.660000    17.660000   \n",
       "...                                ...          ...          ...          ...   \n",
       "2023-09-12 00:00:00-04:00  4473.270020  4487.109863  4456.830078  4461.899902   \n",
       "2023-09-13 00:00:00-04:00  4462.649902  4479.390137  4453.520020  4467.439941   \n",
       "2023-09-14 00:00:00-04:00  4487.779785  4511.990234  4478.689941  4505.100098   \n",
       "2023-09-15 00:00:00-04:00  4497.979980  4497.979980  4447.209961  4450.319824   \n",
       "2023-09-18 00:00:00-04:00  4445.129883  4466.359863  4442.109863  4453.529785   \n",
       "\n",
       "                               Volume  \n",
       "Date                                   \n",
       "1927-12-30 00:00:00-05:00           0  \n",
       "1928-01-03 00:00:00-05:00           0  \n",
       "1928-01-04 00:00:00-05:00           0  \n",
       "1928-01-05 00:00:00-05:00           0  \n",
       "1928-01-06 00:00:00-05:00           0  \n",
       "...                               ...  \n",
       "2023-09-12 00:00:00-04:00  3435740000  \n",
       "2023-09-13 00:00:00-04:00  3529430000  \n",
       "2023-09-14 00:00:00-04:00  3648720000  \n",
       "2023-09-15 00:00:00-04:00  6932230000  \n",
       "2023-09-18 00:00:00-04:00  1932361000  \n",
       "\n",
       "[24043 rows x 5 columns]"
      ]
     },
     "execution_count": 12,
     "metadata": {},
     "output_type": "execute_result"
    }
   ],
   "source": [
    "sp500"
   ]
  },
  {
   "cell_type": "markdown",
   "id": "d6ea5358",
   "metadata": {},
   "source": [
    "### Preparando os dados para o modelo"
   ]
  },
  {
   "cell_type": "markdown",
   "id": "e32d9659",
   "metadata": {},
   "source": [
    "##### Crição do target (Preço de amanha é maior que o de hoje?)\n",
    "\n",
    "\n",
    "Principal diferenca entre criar modelo se regressao ou classificação é que quando queremos estimar o valor exato da cota no dia seguinte (regressão) perdemos muita informação sobre se a cota vai subir ou descer(classificação), que é o que mais importa nesse caso. "
   ]
  },
  {
   "cell_type": "code",
   "execution_count": 10,
   "id": "7d5a6db7",
   "metadata": {},
   "outputs": [],
   "source": [
    "sp500[\"Tomorrow\"] = sp500[\"Close\"].shift(-1)"
   ]
  },
  {
   "cell_type": "code",
   "execution_count": 11,
   "id": "453e746a",
   "metadata": {},
   "outputs": [],
   "source": [
    "# Se o preço de amanha for maior que o de hoje entao [1] (então eu nao vendo hoje)\n",
    "sp500['Target'] = (sp500[\"Tomorrow\"] > sp500[\"Close\"]).astype(int)"
   ]
  },
  {
   "cell_type": "code",
   "execution_count": 12,
   "id": "265951a7",
   "metadata": {},
   "outputs": [],
   "source": [
    "#No mercado de ações não convem usar dados muito antigos, \n",
    "sp500 =sp500.loc[\"1990-01-01\":].copy()"
   ]
  },
  {
   "cell_type": "code",
   "execution_count": 38,
   "id": "f7e4bbbe",
   "metadata": {},
   "outputs": [
    {
     "data": {
      "text/html": [
       "<div>\n",
       "<style scoped>\n",
       "    .dataframe tbody tr th:only-of-type {\n",
       "        vertical-align: middle;\n",
       "    }\n",
       "\n",
       "    .dataframe tbody tr th {\n",
       "        vertical-align: top;\n",
       "    }\n",
       "\n",
       "    .dataframe thead th {\n",
       "        text-align: right;\n",
       "    }\n",
       "</style>\n",
       "<table border=\"1\" class=\"dataframe\">\n",
       "  <thead>\n",
       "    <tr style=\"text-align: right;\">\n",
       "      <th></th>\n",
       "      <th>Open</th>\n",
       "      <th>High</th>\n",
       "      <th>Low</th>\n",
       "      <th>Close</th>\n",
       "      <th>Volume</th>\n",
       "      <th>Tomorrow</th>\n",
       "      <th>Target</th>\n",
       "    </tr>\n",
       "    <tr>\n",
       "      <th>Date</th>\n",
       "      <th></th>\n",
       "      <th></th>\n",
       "      <th></th>\n",
       "      <th></th>\n",
       "      <th></th>\n",
       "      <th></th>\n",
       "      <th></th>\n",
       "    </tr>\n",
       "  </thead>\n",
       "  <tbody>\n",
       "    <tr>\n",
       "      <th>1990-01-02 00:00:00-05:00</th>\n",
       "      <td>353.399994</td>\n",
       "      <td>359.690002</td>\n",
       "      <td>351.980011</td>\n",
       "      <td>359.690002</td>\n",
       "      <td>162070000</td>\n",
       "      <td>358.760010</td>\n",
       "      <td>0</td>\n",
       "    </tr>\n",
       "    <tr>\n",
       "      <th>1990-01-03 00:00:00-05:00</th>\n",
       "      <td>359.690002</td>\n",
       "      <td>360.589996</td>\n",
       "      <td>357.890015</td>\n",
       "      <td>358.760010</td>\n",
       "      <td>192330000</td>\n",
       "      <td>355.670013</td>\n",
       "      <td>0</td>\n",
       "    </tr>\n",
       "    <tr>\n",
       "      <th>1990-01-04 00:00:00-05:00</th>\n",
       "      <td>358.760010</td>\n",
       "      <td>358.760010</td>\n",
       "      <td>352.890015</td>\n",
       "      <td>355.670013</td>\n",
       "      <td>177000000</td>\n",
       "      <td>352.200012</td>\n",
       "      <td>0</td>\n",
       "    </tr>\n",
       "    <tr>\n",
       "      <th>1990-01-05 00:00:00-05:00</th>\n",
       "      <td>355.670013</td>\n",
       "      <td>355.670013</td>\n",
       "      <td>351.350006</td>\n",
       "      <td>352.200012</td>\n",
       "      <td>158530000</td>\n",
       "      <td>353.790009</td>\n",
       "      <td>1</td>\n",
       "    </tr>\n",
       "    <tr>\n",
       "      <th>1990-01-08 00:00:00-05:00</th>\n",
       "      <td>352.200012</td>\n",
       "      <td>354.239990</td>\n",
       "      <td>350.540009</td>\n",
       "      <td>353.790009</td>\n",
       "      <td>140110000</td>\n",
       "      <td>349.619995</td>\n",
       "      <td>0</td>\n",
       "    </tr>\n",
       "    <tr>\n",
       "      <th>...</th>\n",
       "      <td>...</td>\n",
       "      <td>...</td>\n",
       "      <td>...</td>\n",
       "      <td>...</td>\n",
       "      <td>...</td>\n",
       "      <td>...</td>\n",
       "      <td>...</td>\n",
       "    </tr>\n",
       "    <tr>\n",
       "      <th>2023-09-12 00:00:00-04:00</th>\n",
       "      <td>4473.270020</td>\n",
       "      <td>4487.109863</td>\n",
       "      <td>4456.830078</td>\n",
       "      <td>4461.899902</td>\n",
       "      <td>3435740000</td>\n",
       "      <td>4467.439941</td>\n",
       "      <td>1</td>\n",
       "    </tr>\n",
       "    <tr>\n",
       "      <th>2023-09-13 00:00:00-04:00</th>\n",
       "      <td>4462.649902</td>\n",
       "      <td>4479.390137</td>\n",
       "      <td>4453.520020</td>\n",
       "      <td>4467.439941</td>\n",
       "      <td>3529430000</td>\n",
       "      <td>4505.100098</td>\n",
       "      <td>1</td>\n",
       "    </tr>\n",
       "    <tr>\n",
       "      <th>2023-09-14 00:00:00-04:00</th>\n",
       "      <td>4487.779785</td>\n",
       "      <td>4511.990234</td>\n",
       "      <td>4478.689941</td>\n",
       "      <td>4505.100098</td>\n",
       "      <td>3648720000</td>\n",
       "      <td>4450.319824</td>\n",
       "      <td>0</td>\n",
       "    </tr>\n",
       "    <tr>\n",
       "      <th>2023-09-15 00:00:00-04:00</th>\n",
       "      <td>4497.979980</td>\n",
       "      <td>4497.979980</td>\n",
       "      <td>4447.209961</td>\n",
       "      <td>4450.319824</td>\n",
       "      <td>6932230000</td>\n",
       "      <td>4453.529785</td>\n",
       "      <td>1</td>\n",
       "    </tr>\n",
       "    <tr>\n",
       "      <th>2023-09-18 00:00:00-04:00</th>\n",
       "      <td>4445.129883</td>\n",
       "      <td>4466.359863</td>\n",
       "      <td>4442.109863</td>\n",
       "      <td>4453.529785</td>\n",
       "      <td>1932361000</td>\n",
       "      <td>NaN</td>\n",
       "      <td>0</td>\n",
       "    </tr>\n",
       "  </tbody>\n",
       "</table>\n",
       "<p>8493 rows × 7 columns</p>\n",
       "</div>"
      ],
      "text/plain": [
       "                                  Open         High          Low        Close  \\\n",
       "Date                                                                            \n",
       "1990-01-02 00:00:00-05:00   353.399994   359.690002   351.980011   359.690002   \n",
       "1990-01-03 00:00:00-05:00   359.690002   360.589996   357.890015   358.760010   \n",
       "1990-01-04 00:00:00-05:00   358.760010   358.760010   352.890015   355.670013   \n",
       "1990-01-05 00:00:00-05:00   355.670013   355.670013   351.350006   352.200012   \n",
       "1990-01-08 00:00:00-05:00   352.200012   354.239990   350.540009   353.790009   \n",
       "...                                ...          ...          ...          ...   \n",
       "2023-09-12 00:00:00-04:00  4473.270020  4487.109863  4456.830078  4461.899902   \n",
       "2023-09-13 00:00:00-04:00  4462.649902  4479.390137  4453.520020  4467.439941   \n",
       "2023-09-14 00:00:00-04:00  4487.779785  4511.990234  4478.689941  4505.100098   \n",
       "2023-09-15 00:00:00-04:00  4497.979980  4497.979980  4447.209961  4450.319824   \n",
       "2023-09-18 00:00:00-04:00  4445.129883  4466.359863  4442.109863  4453.529785   \n",
       "\n",
       "                               Volume     Tomorrow  Target  \n",
       "Date                                                        \n",
       "1990-01-02 00:00:00-05:00   162070000   358.760010       0  \n",
       "1990-01-03 00:00:00-05:00   192330000   355.670013       0  \n",
       "1990-01-04 00:00:00-05:00   177000000   352.200012       0  \n",
       "1990-01-05 00:00:00-05:00   158530000   353.790009       1  \n",
       "1990-01-08 00:00:00-05:00   140110000   349.619995       0  \n",
       "...                               ...          ...     ...  \n",
       "2023-09-12 00:00:00-04:00  3435740000  4467.439941       1  \n",
       "2023-09-13 00:00:00-04:00  3529430000  4505.100098       1  \n",
       "2023-09-14 00:00:00-04:00  3648720000  4450.319824       0  \n",
       "2023-09-15 00:00:00-04:00  6932230000  4453.529785       1  \n",
       "2023-09-18 00:00:00-04:00  1932361000          NaN       0  \n",
       "\n",
       "[8493 rows x 7 columns]"
      ]
     },
     "execution_count": 38,
     "metadata": {},
     "output_type": "execute_result"
    }
   ],
   "source": [
    "sp500"
   ]
  },
  {
   "cell_type": "markdown",
   "id": "2441d61f",
   "metadata": {},
   "source": [
    "### Treino primeiro modelo \n",
    "\n",
    "Random forest treina diversas arvores de decisão com parametros aleatorios e em seguida calcula uma média dos resultados das arvores de decisão. Por ter esse médoto é que random forests possuem resistencia ao overfit (super ajuste). também podem captar tendencias não lineares entre dados. \n",
    "\n",
    "Como se trata de dados temporais não se realiza crossvalidation pois estaremos usando dados futuros para prever o passado. logo o modelo se ajusta 100%ao treino. Acontece o vazamento de dados para o modelo\n",
    "\n"
   ]
  },
  {
   "cell_type": "code",
   "execution_count": 13,
   "id": "d930f2c0",
   "metadata": {
    "scrolled": true
   },
   "outputs": [
    {
     "data": {
      "text/html": [
       "<style>#sk-container-id-1 {color: black;}#sk-container-id-1 pre{padding: 0;}#sk-container-id-1 div.sk-toggleable {background-color: white;}#sk-container-id-1 label.sk-toggleable__label {cursor: pointer;display: block;width: 100%;margin-bottom: 0;padding: 0.3em;box-sizing: border-box;text-align: center;}#sk-container-id-1 label.sk-toggleable__label-arrow:before {content: \"▸\";float: left;margin-right: 0.25em;color: #696969;}#sk-container-id-1 label.sk-toggleable__label-arrow:hover:before {color: black;}#sk-container-id-1 div.sk-estimator:hover label.sk-toggleable__label-arrow:before {color: black;}#sk-container-id-1 div.sk-toggleable__content {max-height: 0;max-width: 0;overflow: hidden;text-align: left;background-color: #f0f8ff;}#sk-container-id-1 div.sk-toggleable__content pre {margin: 0.2em;color: black;border-radius: 0.25em;background-color: #f0f8ff;}#sk-container-id-1 input.sk-toggleable__control:checked~div.sk-toggleable__content {max-height: 200px;max-width: 100%;overflow: auto;}#sk-container-id-1 input.sk-toggleable__control:checked~label.sk-toggleable__label-arrow:before {content: \"▾\";}#sk-container-id-1 div.sk-estimator input.sk-toggleable__control:checked~label.sk-toggleable__label {background-color: #d4ebff;}#sk-container-id-1 div.sk-label input.sk-toggleable__control:checked~label.sk-toggleable__label {background-color: #d4ebff;}#sk-container-id-1 input.sk-hidden--visually {border: 0;clip: rect(1px 1px 1px 1px);clip: rect(1px, 1px, 1px, 1px);height: 1px;margin: -1px;overflow: hidden;padding: 0;position: absolute;width: 1px;}#sk-container-id-1 div.sk-estimator {font-family: monospace;background-color: #f0f8ff;border: 1px dotted black;border-radius: 0.25em;box-sizing: border-box;margin-bottom: 0.5em;}#sk-container-id-1 div.sk-estimator:hover {background-color: #d4ebff;}#sk-container-id-1 div.sk-parallel-item::after {content: \"\";width: 100%;border-bottom: 1px solid gray;flex-grow: 1;}#sk-container-id-1 div.sk-label:hover label.sk-toggleable__label {background-color: #d4ebff;}#sk-container-id-1 div.sk-serial::before {content: \"\";position: absolute;border-left: 1px solid gray;box-sizing: border-box;top: 0;bottom: 0;left: 50%;z-index: 0;}#sk-container-id-1 div.sk-serial {display: flex;flex-direction: column;align-items: center;background-color: white;padding-right: 0.2em;padding-left: 0.2em;position: relative;}#sk-container-id-1 div.sk-item {position: relative;z-index: 1;}#sk-container-id-1 div.sk-parallel {display: flex;align-items: stretch;justify-content: center;background-color: white;position: relative;}#sk-container-id-1 div.sk-item::before, #sk-container-id-1 div.sk-parallel-item::before {content: \"\";position: absolute;border-left: 1px solid gray;box-sizing: border-box;top: 0;bottom: 0;left: 50%;z-index: -1;}#sk-container-id-1 div.sk-parallel-item {display: flex;flex-direction: column;z-index: 1;position: relative;background-color: white;}#sk-container-id-1 div.sk-parallel-item:first-child::after {align-self: flex-end;width: 50%;}#sk-container-id-1 div.sk-parallel-item:last-child::after {align-self: flex-start;width: 50%;}#sk-container-id-1 div.sk-parallel-item:only-child::after {width: 0;}#sk-container-id-1 div.sk-dashed-wrapped {border: 1px dashed gray;margin: 0 0.4em 0.5em 0.4em;box-sizing: border-box;padding-bottom: 0.4em;background-color: white;}#sk-container-id-1 div.sk-label label {font-family: monospace;font-weight: bold;display: inline-block;line-height: 1.2em;}#sk-container-id-1 div.sk-label-container {text-align: center;}#sk-container-id-1 div.sk-container {/* jupyter's `normalize.less` sets `[hidden] { display: none; }` but bootstrap.min.css set `[hidden] { display: none !important; }` so we also need the `!important` here to be able to override the default hidden behavior on the sphinx rendered scikit-learn.org. See: https://github.com/scikit-learn/scikit-learn/issues/21755 */display: inline-block !important;position: relative;}#sk-container-id-1 div.sk-text-repr-fallback {display: none;}</style><div id=\"sk-container-id-1\" class=\"sk-top-container\"><div class=\"sk-text-repr-fallback\"><pre>RandomForestClassifier(min_samples_split=100, random_state=1)</pre><b>In a Jupyter environment, please rerun this cell to show the HTML representation or trust the notebook. <br />On GitHub, the HTML representation is unable to render, please try loading this page with nbviewer.org.</b></div><div class=\"sk-container\" hidden><div class=\"sk-item\"><div class=\"sk-estimator sk-toggleable\"><input class=\"sk-toggleable__control sk-hidden--visually\" id=\"sk-estimator-id-1\" type=\"checkbox\" checked><label for=\"sk-estimator-id-1\" class=\"sk-toggleable__label sk-toggleable__label-arrow\">RandomForestClassifier</label><div class=\"sk-toggleable__content\"><pre>RandomForestClassifier(min_samples_split=100, random_state=1)</pre></div></div></div></div></div>"
      ],
      "text/plain": [
       "RandomForestClassifier(min_samples_split=100, random_state=1)"
      ]
     },
     "execution_count": 13,
     "metadata": {},
     "output_type": "execute_result"
    }
   ],
   "source": [
    "from sklearn.ensemble import RandomForestClassifier\n",
    "\n",
    "model = RandomForestClassifier(n_estimators=100, min_samples_split=100, random_state=1)\n",
    "\n",
    "train = sp500.iloc[:-100]\n",
    "test = sp500.iloc[-100:]\n",
    "\n",
    "predictors = [\"Close\",\"Volume\",\"Open\",\"High\",\"Low\"]\n",
    "\n",
    "model.fit(train[predictors], train[\"Target\"])\n",
    "\n",
    "\n",
    "\n",
    "#n_estimators=100 : numero de arvores individuais\n",
    "#min_samples_split : proteje as arvores individuais de overfit"
   ]
  },
  {
   "cell_type": "markdown",
   "id": "1831ebbc",
   "metadata": {},
   "source": [
    "##### Medidas de precisão do modelo\n",
    "\n",
    "Usando o precision_score pois ele mede quanto o modelo disse que seria 1 quando realmente foi. Note que é exatamentte nosso target"
   ]
  },
  {
   "cell_type": "code",
   "execution_count": 14,
   "id": "67bd1070",
   "metadata": {},
   "outputs": [],
   "source": [
    "from sklearn.metrics import precision_score\n",
    "\n",
    "preds = model.predict(test[predictors]) #note que estamos criando predições do modelo a \n",
    "                                       # partir BD de TESTE"
   ]
  },
  {
   "cell_type": "code",
   "execution_count": 15,
   "id": "6eae5cc4",
   "metadata": {},
   "outputs": [],
   "source": [
    "# transf a saida preds  em pandas serie\n",
    "\n",
    "import pandas as pd \n",
    "preds = pd.Series(preds, index=test.index)"
   ]
  },
  {
   "cell_type": "code",
   "execution_count": 16,
   "id": "3867ed17",
   "metadata": {},
   "outputs": [
    {
     "data": {
      "text/plain": [
       "0.5588235294117647"
      ]
     },
     "execution_count": 16,
     "metadata": {},
     "output_type": "execute_result"
    }
   ],
   "source": [
    "precision_score(test[\"Target\"], preds)  # o calculo do precision é calculado entre o target do TESTE \n",
    "                                       #e o do modelo que TAMBEM é do TESTE"
   ]
  },
  {
   "cell_type": "markdown",
   "id": "8855175d",
   "metadata": {},
   "source": [
    "Concatenando nosso target do teste (valores reais) e valores preditos pelo modelo para o backtest"
   ]
  },
  {
   "cell_type": "code",
   "execution_count": 17,
   "id": "8ea3336b",
   "metadata": {},
   "outputs": [],
   "source": [
    "combined = pd.concat([test[\"Target\"], preds], axis=1)"
   ]
  },
  {
   "cell_type": "code",
   "execution_count": null,
   "id": "fbe77343",
   "metadata": {},
   "outputs": [],
   "source": [
    "combined.plot()"
   ]
  },
  {
   "cell_type": "markdown",
   "id": "d85562b4",
   "metadata": {},
   "source": [
    "##### Backtest system"
   ]
  },
  {
   "cell_type": "code",
   "execution_count": 18,
   "id": "58864eec",
   "metadata": {},
   "outputs": [],
   "source": [
    "def predict(train,test,predictors,model):\n",
    "    model.fit(train[predictors],train[\"Target\"])\n",
    "    preds = model.predict(test[predictors])\n",
    "    preds = pd.Series(preds, index=test.index, name=\"Predictions\")\n",
    "    combined = pd.concat([test[\"Target\"],preds],axis=1)\n",
    "    return combined"
   ]
  },
  {
   "cell_type": "code",
   "execution_count": 19,
   "id": "2772d9ef",
   "metadata": {},
   "outputs": [],
   "source": [
    "def backtest(data, model, predictors, start=2500,step=250):\n",
    "    all_predictions=[]\n",
    "    \n",
    "    \n",
    "    for i in range(start, data.shape[0], step):\n",
    "        train = data.iloc[0:i].copy()\n",
    "        test = data.iloc[i:(i+step)].copy()\n",
    "        predictions = predict(train,test,predictors,model)\n",
    "        all_predictions.append(predictions)\n",
    "        return pd.concat(all_predictions)"
   ]
  },
  {
   "cell_type": "code",
   "execution_count": 20,
   "id": "c1b9bc39",
   "metadata": {},
   "outputs": [],
   "source": [
    "predictions = backtest(sp500, model, predictors)"
   ]
  },
  {
   "cell_type": "code",
   "execution_count": 24,
   "id": "59e3506c",
   "metadata": {
    "collapsed": true
   },
   "outputs": [
    {
     "data": {
      "text/html": [
       "<div>\n",
       "<style scoped>\n",
       "    .dataframe tbody tr th:only-of-type {\n",
       "        vertical-align: middle;\n",
       "    }\n",
       "\n",
       "    .dataframe tbody tr th {\n",
       "        vertical-align: top;\n",
       "    }\n",
       "\n",
       "    .dataframe thead th {\n",
       "        text-align: right;\n",
       "    }\n",
       "</style>\n",
       "<table border=\"1\" class=\"dataframe\">\n",
       "  <thead>\n",
       "    <tr style=\"text-align: right;\">\n",
       "      <th></th>\n",
       "      <th>Open</th>\n",
       "      <th>High</th>\n",
       "      <th>Low</th>\n",
       "      <th>Close</th>\n",
       "      <th>Volume</th>\n",
       "      <th>Tomorrow</th>\n",
       "      <th>Target</th>\n",
       "    </tr>\n",
       "    <tr>\n",
       "      <th>Date</th>\n",
       "      <th></th>\n",
       "      <th></th>\n",
       "      <th></th>\n",
       "      <th></th>\n",
       "      <th></th>\n",
       "      <th></th>\n",
       "      <th></th>\n",
       "    </tr>\n",
       "  </thead>\n",
       "  <tbody>\n",
       "    <tr>\n",
       "      <th>1990-01-02 00:00:00-05:00</th>\n",
       "      <td>353.399994</td>\n",
       "      <td>359.690002</td>\n",
       "      <td>351.980011</td>\n",
       "      <td>359.690002</td>\n",
       "      <td>162070000</td>\n",
       "      <td>358.760010</td>\n",
       "      <td>0</td>\n",
       "    </tr>\n",
       "    <tr>\n",
       "      <th>1990-01-03 00:00:00-05:00</th>\n",
       "      <td>359.690002</td>\n",
       "      <td>360.589996</td>\n",
       "      <td>357.890015</td>\n",
       "      <td>358.760010</td>\n",
       "      <td>192330000</td>\n",
       "      <td>355.670013</td>\n",
       "      <td>0</td>\n",
       "    </tr>\n",
       "    <tr>\n",
       "      <th>1990-01-04 00:00:00-05:00</th>\n",
       "      <td>358.760010</td>\n",
       "      <td>358.760010</td>\n",
       "      <td>352.890015</td>\n",
       "      <td>355.670013</td>\n",
       "      <td>177000000</td>\n",
       "      <td>352.200012</td>\n",
       "      <td>0</td>\n",
       "    </tr>\n",
       "    <tr>\n",
       "      <th>1990-01-05 00:00:00-05:00</th>\n",
       "      <td>355.670013</td>\n",
       "      <td>355.670013</td>\n",
       "      <td>351.350006</td>\n",
       "      <td>352.200012</td>\n",
       "      <td>158530000</td>\n",
       "      <td>353.790009</td>\n",
       "      <td>1</td>\n",
       "    </tr>\n",
       "    <tr>\n",
       "      <th>1990-01-08 00:00:00-05:00</th>\n",
       "      <td>352.200012</td>\n",
       "      <td>354.239990</td>\n",
       "      <td>350.540009</td>\n",
       "      <td>353.790009</td>\n",
       "      <td>140110000</td>\n",
       "      <td>349.619995</td>\n",
       "      <td>0</td>\n",
       "    </tr>\n",
       "    <tr>\n",
       "      <th>...</th>\n",
       "      <td>...</td>\n",
       "      <td>...</td>\n",
       "      <td>...</td>\n",
       "      <td>...</td>\n",
       "      <td>...</td>\n",
       "      <td>...</td>\n",
       "      <td>...</td>\n",
       "    </tr>\n",
       "    <tr>\n",
       "      <th>2023-09-13 00:00:00-04:00</th>\n",
       "      <td>4462.649902</td>\n",
       "      <td>4479.390137</td>\n",
       "      <td>4453.520020</td>\n",
       "      <td>4467.439941</td>\n",
       "      <td>3529430000</td>\n",
       "      <td>4505.100098</td>\n",
       "      <td>1</td>\n",
       "    </tr>\n",
       "    <tr>\n",
       "      <th>2023-09-14 00:00:00-04:00</th>\n",
       "      <td>4487.779785</td>\n",
       "      <td>4511.990234</td>\n",
       "      <td>4478.689941</td>\n",
       "      <td>4505.100098</td>\n",
       "      <td>3648720000</td>\n",
       "      <td>4450.319824</td>\n",
       "      <td>0</td>\n",
       "    </tr>\n",
       "    <tr>\n",
       "      <th>2023-09-15 00:00:00-04:00</th>\n",
       "      <td>4497.979980</td>\n",
       "      <td>4497.979980</td>\n",
       "      <td>4447.209961</td>\n",
       "      <td>4450.319824</td>\n",
       "      <td>6932230000</td>\n",
       "      <td>4453.529785</td>\n",
       "      <td>1</td>\n",
       "    </tr>\n",
       "    <tr>\n",
       "      <th>2023-09-18 00:00:00-04:00</th>\n",
       "      <td>4445.129883</td>\n",
       "      <td>4466.359863</td>\n",
       "      <td>4442.109863</td>\n",
       "      <td>4453.529785</td>\n",
       "      <td>3161230000</td>\n",
       "      <td>4448.930176</td>\n",
       "      <td>0</td>\n",
       "    </tr>\n",
       "    <tr>\n",
       "      <th>2023-09-19 00:00:00-04:00</th>\n",
       "      <td>4445.410156</td>\n",
       "      <td>4449.850098</td>\n",
       "      <td>4416.609863</td>\n",
       "      <td>4448.930176</td>\n",
       "      <td>1149356000</td>\n",
       "      <td>NaN</td>\n",
       "      <td>0</td>\n",
       "    </tr>\n",
       "  </tbody>\n",
       "</table>\n",
       "<p>8494 rows × 7 columns</p>\n",
       "</div>"
      ],
      "text/plain": [
       "                                  Open         High          Low        Close  \\\n",
       "Date                                                                            \n",
       "1990-01-02 00:00:00-05:00   353.399994   359.690002   351.980011   359.690002   \n",
       "1990-01-03 00:00:00-05:00   359.690002   360.589996   357.890015   358.760010   \n",
       "1990-01-04 00:00:00-05:00   358.760010   358.760010   352.890015   355.670013   \n",
       "1990-01-05 00:00:00-05:00   355.670013   355.670013   351.350006   352.200012   \n",
       "1990-01-08 00:00:00-05:00   352.200012   354.239990   350.540009   353.790009   \n",
       "...                                ...          ...          ...          ...   \n",
       "2023-09-13 00:00:00-04:00  4462.649902  4479.390137  4453.520020  4467.439941   \n",
       "2023-09-14 00:00:00-04:00  4487.779785  4511.990234  4478.689941  4505.100098   \n",
       "2023-09-15 00:00:00-04:00  4497.979980  4497.979980  4447.209961  4450.319824   \n",
       "2023-09-18 00:00:00-04:00  4445.129883  4466.359863  4442.109863  4453.529785   \n",
       "2023-09-19 00:00:00-04:00  4445.410156  4449.850098  4416.609863  4448.930176   \n",
       "\n",
       "                               Volume     Tomorrow  Target  \n",
       "Date                                                        \n",
       "1990-01-02 00:00:00-05:00   162070000   358.760010       0  \n",
       "1990-01-03 00:00:00-05:00   192330000   355.670013       0  \n",
       "1990-01-04 00:00:00-05:00   177000000   352.200012       0  \n",
       "1990-01-05 00:00:00-05:00   158530000   353.790009       1  \n",
       "1990-01-08 00:00:00-05:00   140110000   349.619995       0  \n",
       "...                               ...          ...     ...  \n",
       "2023-09-13 00:00:00-04:00  3529430000  4505.100098       1  \n",
       "2023-09-14 00:00:00-04:00  3648720000  4450.319824       0  \n",
       "2023-09-15 00:00:00-04:00  6932230000  4453.529785       1  \n",
       "2023-09-18 00:00:00-04:00  3161230000  4448.930176       0  \n",
       "2023-09-19 00:00:00-04:00  1149356000          NaN       0  \n",
       "\n",
       "[8494 rows x 7 columns]"
      ]
     },
     "execution_count": 24,
     "metadata": {},
     "output_type": "execute_result"
    }
   ],
   "source": [
    "sp500"
   ]
  },
  {
   "cell_type": "code",
   "execution_count": 25,
   "id": "079820a2",
   "metadata": {},
   "outputs": [
    {
     "data": {
      "text/plain": [
       "Date\n",
       "1999-11-22 00:00:00-05:00    0\n",
       "1999-11-23 00:00:00-05:00    0\n",
       "1999-11-24 00:00:00-05:00    0\n",
       "1999-11-26 00:00:00-05:00    0\n",
       "1999-11-29 00:00:00-05:00    0\n",
       "                            ..\n",
       "2000-11-09 00:00:00-05:00    0\n",
       "2000-11-10 00:00:00-05:00    1\n",
       "2000-11-13 00:00:00-05:00    0\n",
       "2000-11-14 00:00:00-05:00    0\n",
       "2000-11-15 00:00:00-05:00    0\n",
       "Name: Predictions, Length: 250, dtype: int32"
      ]
     },
     "execution_count": 25,
     "metadata": {},
     "output_type": "execute_result"
    }
   ],
   "source": [
    " predictions[\"Predictions\"].value_counts()"
   ]
  },
  {
   "cell_type": "code",
   "execution_count": 22,
   "id": "b143a5b1",
   "metadata": {},
   "outputs": [
    {
     "data": {
      "text/plain": [
       "0.46153846153846156"
      ]
     },
     "execution_count": 22,
     "metadata": {},
     "output_type": "execute_result"
    }
   ],
   "source": [
    "precision_score(predictions[\"Target\"], predictions[\"Predictions\"])"
   ]
  },
  {
   "cell_type": "code",
   "execution_count": 23,
   "id": "5c5b889d",
   "metadata": {},
   "outputs": [
    {
     "data": {
      "text/plain": [
       "0    0.516\n",
       "1    0.484\n",
       "Name: Target, dtype: float64"
      ]
     },
     "execution_count": 23,
     "metadata": {},
     "output_type": "execute_result"
    }
   ],
   "source": [
    "# vendo a proporção de acertos de 1\n",
    "predictions[\"Target\"].value_counts() / predictions.shape[0]"
   ]
  },
  {
   "cell_type": "markdown",
   "id": "9fd20272",
   "metadata": {},
   "source": [
    "#### Nota\n",
    "Não sei poruqe predictions[Predictions] ficou com tao poucos dados deveriam ser perto de 8000  "
   ]
  },
  {
   "cell_type": "markdown",
   "id": "80ae3dc9",
   "metadata": {},
   "source": [
    "#### Adicionando novos preditores ao modelo \n",
    "\n",
    "vamos criar duas novas colunas para \"close e \"target com diferentes intervalos de tempo [2,5,60,250,1000] calculando as medias para os respectivos intervalos e a soma dos target  \n"
   ]
  },
  {
   "cell_type": "code",
   "execution_count": 43,
   "id": "6a0cab33",
   "metadata": {},
   "outputs": [],
   "source": [
    "horizons= [2,5,60,250,1000]\n",
    "new_predictors = []\n",
    "\n",
    "for horizon in horizons:\n",
    "    rolling_averages = sp500.rolling(horizon).mean()\n",
    "    \n",
    "    ratio_column = f\"Close_Ratio_{horizon}\"\n",
    "    sp500[ratio_column] = sp500[\"Close\"] / rolling_averages[\"Close\"]\n",
    "    \n",
    "    trend_column = f\"Trend_{horizon}\"\n",
    "    sp500[trend_column] = sp500.shift(1).rolling(horizon).sum()[\"Target\"]\n",
    "    \n",
    "    new_predictors += [ratio_column , trend_column]"
   ]
  },
  {
   "cell_type": "code",
   "execution_count": 44,
   "id": "5e1037b1",
   "metadata": {},
   "outputs": [],
   "source": [
    "#como em diferentes horizonte nao tempos dados passados é gerado NaN nos dados vamos \n",
    "# nos livrar disso\n",
    "sp500 = sp500.dropna()"
   ]
  },
  {
   "cell_type": "markdown",
   "id": "93e78c75",
   "metadata": {},
   "source": [
    "### Melhorando o modelo\n",
    "\n",
    "Aumentando o numero de  arvores de decisao e diminuindo o numero de divisões. Também foi dado mais rigor para o target. Passando de 0.5 para 0.6. "
   ]
  },
  {
   "cell_type": "code",
   "execution_count": 51,
   "id": "944043c6",
   "metadata": {},
   "outputs": [],
   "source": [
    "model =  RandomForestClassifier(n_estimators=200, min_samples_split=50, random_state=1)"
   ]
  },
  {
   "cell_type": "code",
   "execution_count": 52,
   "id": "cce97e73",
   "metadata": {},
   "outputs": [],
   "source": [
    "def predict(train,test,predictors,model):\n",
    "    model.fit(train[predictors],train[\"Target\"])\n",
    "    preds = model.predict_proba(test[predictors])[:,1] #pegando a segunda coluna\n",
    "    preds[preds >= .6] = 1\n",
    "    preds[preds < .6] = 0\n",
    "    preds = pd.Series(preds, index=test.index, name=\"Predictions\")\n",
    "    combined = pd.concat([test[\"Target\"],preds],axis=1)\n",
    "    return combined"
   ]
  },
  {
   "cell_type": "code",
   "execution_count": 53,
   "id": "c9d18503",
   "metadata": {},
   "outputs": [],
   "source": [
    "# Novamente o back teste, agora para o novo modelo\n",
    "predictions = backtest(sp500, model, new_predictors)\n"
   ]
  },
  {
   "cell_type": "code",
   "execution_count": 56,
   "id": "7b24396e",
   "metadata": {},
   "outputs": [
    {
     "data": {
      "text/plain": [
       "0.0    242\n",
       "1.0      8\n",
       "Name: Predictions, dtype: int64"
      ]
     },
     "execution_count": 56,
     "metadata": {},
     "output_type": "execute_result"
    }
   ],
   "source": [
    "predictions[\"Predictions\"].value_counts()"
   ]
  },
  {
   "cell_type": "code",
   "execution_count": 57,
   "id": "2804d4c8",
   "metadata": {},
   "outputs": [
    {
     "data": {
      "text/plain": [
       "0.875"
      ]
     },
     "execution_count": 57,
     "metadata": {},
     "output_type": "execute_result"
    }
   ],
   "source": [
    "precision_score(predictions[\"Target\"], predictions[\"Predictions\"])"
   ]
  },
  {
   "cell_type": "markdown",
   "id": "5a81c10d",
   "metadata": {},
   "source": [
    "#### Nota: algo esta errado com essa precisão "
   ]
  },
  {
   "cell_type": "markdown",
   "id": "e75aa205",
   "metadata": {},
   "source": [
    "Para predizer melhor se o fechamento de amanha é maior ou menor que o de hoje, indica-se adicionar variaveis de mercados de bolsa que abrem antes para verificar certa correlação. Adicionar noticias, e estudos. "
   ]
  }
 ],
 "metadata": {
  "kernelspec": {
   "display_name": "Python 3 (ipykernel)",
   "language": "python",
   "name": "python3"
  },
  "language_info": {
   "codemirror_mode": {
    "name": "ipython",
    "version": 3
   },
   "file_extension": ".py",
   "mimetype": "text/x-python",
   "name": "python",
   "nbconvert_exporter": "python",
   "pygments_lexer": "ipython3",
   "version": "3.11.4"
  }
 },
 "nbformat": 4,
 "nbformat_minor": 5
}
